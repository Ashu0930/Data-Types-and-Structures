{
  "nbformat": 4,
  "nbformat_minor": 0,
  "metadata": {
    "colab": {
      "provenance": []
    },
    "kernelspec": {
      "name": "python3",
      "display_name": "Python 3"
    },
    "language_info": {
      "name": "python"
    }
  },
  "cells": [
    {
      "cell_type": "markdown",
      "source": [
        "# Data Types and Structures Questions"
      ],
      "metadata": {
        "id": "_zLv_lAagL57"
      }
    },
    {
      "cell_type": "markdown",
      "source": [
        "1. What are data structures, and why are they important?\n",
        "\n",
        "    -> Data structures are specialized formats for organizing, storing, and accessing collections of data. They provide efficient ways to manage information based on its characteristics and intended use.\n",
        "    \n",
        "    Why are they important?\n",
        "\n",
        "    a. Choosing the right data structure significantly impacts the efficiency and performance of our program.\n",
        "    b. Well-chosen data structures can:\n",
        "    c. Simplify data manipulation (adding, removing, modifying elements)\n",
        "    d. Optimize searching and sorting operations\n",
        "    e. Conserve memory usage\n",
        "\n",
        "2. Explain the difference between mutable and immutable data types with examples.   \n",
        "\n",
        "    -> Mutable objects: An object or container whose state and value can be changed after they are created called mutable objects. It also called item assignment.\n",
        "\n",
        "    Examples of Mutable Data Types:\n",
        "\n",
        "    a. Lists: We can add, remove, or modify elements.\n",
        "    b. Dictionaries: We can update key-value pairs.\n",
        "    c. Sets: We can add or remove items.\n",
        "\n",
        "    Immutable Objects: An object or container whose state and value can not be changed after they are created called immutable objects.\n",
        "\n",
        "    Examples of Immutable Data Types:\n",
        "\n",
        "    a. Strings: WE cannot change a character in a string directly.\n",
        "    b. Tuples: We cannot modify or add elements.\n",
        "    c. Integers, Floats: We can't alter their value once assigned.\n",
        "    d. Frozen Sets: Similar to sets but immutable.\n",
        "\n",
        "3. What are the main differences between lists and tuples in Python?\n",
        "\n",
        "    -> Lists and tuples are both used to store collections of items in Python, but they have several key differences in terms of behavior, usage, and functionality. Here's a comparison between the two:\n",
        "     \n",
        "    a. Mutability\n",
        "\n",
        "    List:  Mutable — We can change, add, or remove elements after the list is created.\n",
        "    \n",
        "    Tuple: Immutable — Once a tuple is created, its elements cannot be changed, added, or removed.\n",
        "\n",
        "    b. Performance\n",
        "    \n",
        "    List:  Because lists are mutable, they are generally slower when compared to tuples. This is due to the extra memory management needed for mutability.\n",
        "\n",
        "    Tuple: Tuples are usually faster than lists in terms of access time because they are immutable, which allows Python to optimize their usage in memory.\n",
        "\n",
        "    c. Methods\n",
        "\n",
        "    List: Lists come with more built-in methods for modification, like .append(), .remove(), .pop(), .extend(), and .sort().\n",
        "\n",
        "    Tuple: Tuples have very few built-in methods. They only support methods like .count() and .index() for searching.\n",
        "\n",
        "4. Describe how dictionaries store data?\n",
        "\n",
        "    -> Dictionaries in Python are a type of associative container that store data in key-value pairs. They are often used to represent relationships between objects, where each key is unique and maps to a corresponding value.\n",
        "\n",
        "    Ex: my_dict = {'name': 'Aman', 'age': 28, 'city': 'Indore'}\n",
        "\n",
        "    Here, 'name', 'age', and 'city' are keys, and 'Aman', 28, and 'Indore' are the values associated with those keys.\n",
        "\n",
        "5. Why might we use a set instead of a list in Python?\n",
        "\n",
        "    -> Sets and lists are built-in data structures we can use to store and arrange values in Python.\n",
        "\n",
        "    If we're wondering which to use, it depends on the use case. If we don’t want the values in the data to change, we can use a set. But if we want the items to change, we can use a list. We can also take into account whether the order of the items matters or not.\n",
        "\n",
        "6. What is a string in Python, and how is it different from a list?\n",
        "\n",
        "    -> In Python, a string is a sequence of characters, while a list is a sequence of items that can be of any type. Strings are immutable, meaning their values cannot be changed, while lists are mutable, meaning they can be changed.\n",
        "\n",
        "    Differences :-\n",
        "    \n",
        "    Mutability:  Strings are immutable, while lists are mutable.\n",
        "    \n",
        "    Data type:   Strings contain only characters, while lists can contain any type of data.\n",
        "    \n",
        "    Representation:  Strings are represented by single or double quotes, while lists are represented by square brackets.\n",
        "\n",
        "7.  How do tuples ensure data integrity in Python?\n",
        "\n",
        "    -> In Python, tuples ensure data integrity by being immutable. This immutability means that once a tuple is created, its contents cannot be changed—there are no methods or operations that can modify the elements of a tuple. This feature is crucial for scenarios where we want to guarantee that the data stored in a collection remains constant and cannot be accidentally altered.\n",
        "\n",
        "8. What is a hash table, and how does it relate to dictionaries in Python?\n",
        "\n",
        "    -> A hash table is a data structure that provides efficient storage and retrieval of key-value pairs. It works by using a hash function to compute an index (or \"hash code\") into an array of fixed size. This index determines where the key-value pair should be stored or retrieved from within the table.\n",
        "\n",
        "    The dictionary is implemented using a hash table. When we create a dictionary, Python uses a hash table behind the scenes to store the key-value pairs.\n",
        "\n",
        "9. Can lists contain different data types in Python?\n",
        "\n",
        "    -> Yes, lists can contain different data types. Unlike some other programming languages that require lists (or arrays) to contain elements of the same type, Python allows a list to store elements of various data types, such as integers, strings, floats, and even other lists or objects.\n",
        "\n",
        "10. Explain why strings are immutable in Python?\n",
        "\n",
        "    -> Strings are immutable, meaning once a string is created, its content cannot be changed. The immutability of strings is a design choice that provides several benefits related to performance, safety, and consistency.\n",
        "\n",
        "    Ex:\n",
        "    \n",
        "\n",
        "\n",
        "      a_string = \"Hello\"\n",
        "      b_string = a_string.replace(\"H\", \"J\")\n",
        "      print(a_string)   \n",
        "      print(b_string)\n",
        "\n",
        "    Output: \"Hello\" (original string is unchanged)\n",
        "\n",
        "11. What advantages do dictionaries offer over lists for certain tasks?\n",
        "\n",
        "    -> Dictionaries offer several advantages over lists for certain tasks.Dictionaries are faster for finding a specific value, and they can store complex data structures.\n",
        "\n",
        "    a. Constant Time Complexity\n",
        "    b. Data Retrieval by Unique Key\n",
        "    c. No Need for Indexing\n",
        "    d. Flexibility with Data Types\n",
        "    e. Efficient Data Updates\n",
        "    f. Data Aggregation and Grouping\n",
        "    g. Handling missing data\n",
        "\n",
        "12. Describe a scenario where using a tuple would be preferable over a list?     \n",
        "\n",
        "    -> Using a tuple over a list is preferable in scenarios where we need to ensure the integrity of the data, want to improve performance (due to immutability), or when the data represents a collection of elements that should not change after creation.\n",
        "\n",
        "    Scenario: Storing a Day of the Week\n",
        "    \n",
        "    We need to store a day of the week, such as \"Monday\". We want to store this day, but we don’t want it to change once it's set.\n",
        "\n",
        "    Why is a Tuple a Good Choice Here?\n",
        "    \n",
        "    -A tuple is immutable, meaning once we set the value, we cannot change it.\n",
        "    \n",
        "    -Since the day of the week should never change, a tuple is a good fit for this use case.\n",
        "    \n",
        "    -It also provides better performance and communicates that the data should remain constant.\n",
        "\n",
        "13. How do sets handle duplicate values in Python?\n",
        "\n",
        "    -> sets are a special type of collection that do not allow duplicate values. While try to add a duplicate value to a set, Python automatically ignores it. This means that each element in a set is unique.\n",
        "\n",
        "    Example:\n",
        "    \n",
        "     \n",
        "     \n",
        "     my_set = {1, 2, 3, 2, 1}\n",
        "     print(my_set)\n",
        "\n",
        "      Outpt: {1, 2, 3}\n",
        "\n",
        "14. How does the “in” keyword work differently for lists and dictionaries?\n",
        "\n",
        "    -> The \"in\" keyword is used to check for the presence of an element in different data structures like lists and dictionaries, but it works differently in each case\n",
        "\n",
        "    a. When we use \"in\" with a list, it checks whether the value exists in the list.\n",
        "\n",
        "    b. When we use in with a dictionary, it checks for the keys in the dictionary, not the values.\n",
        "\n",
        "15. Can you modify the elements of a tuple? Explain why or why not\n",
        "\n",
        "    -> No, we cannot modify the elements of a tuple in Python because tuples are immutable. This means that once a tuple is created, its elements cannot be changed, added, or removed.\n",
        "\n",
        "    Reasons:\n",
        "\n",
        "    a. Tuples are immutable, while lists are mutable.\n",
        "    b. If we try to change a tuple element, we will receive a TypeError error.\n",
        "    c. To add or remove elements from a tuple, we need to create a new tuple.\n",
        "    d. Tuples are more memory-efficient than lists.\n",
        "\n",
        "16. What is a nested dictionary, and give an example of its use case?\n",
        "\n",
        "    -> Nested dictionaries are dictionaries that are stored as values within another dictionary. Ex: An organizational chart with keys being different departments and values being dictionaries of employees in a given department. For storing employee information in a department, a dictionary can be used with keys being employee IDs and values being employee names.\n",
        "\n",
        "17. Describe the time complexity of accessing elements in a dictionar.\n",
        "\n",
        "    -> In Python, accessing elements in a dictionary has an average time complexity of O(1), which is also known as constant time. This means that, on average, retrieving the value for a given key is done in a constant amount of time, regardless of the size of the dictionary.\n",
        "\n",
        "18.  In what situations are lists preferred over dictionaries.   \n",
        "\n",
        "    ->  Use lists when:\n",
        "\n",
        "    - We care about the order of items.\n",
        "    \n",
        "    - We want to access items by position (index).\n",
        "    \n",
        "    - We just need a simple collection of items.\n",
        "    \n",
        "    Use dictionaries when:\n",
        "\n",
        "    - We need to look up items quickly by a unique key (not by position).\n",
        "\n",
        "    - We need to store data in key-value pairs (e.g., \"name\": \"John\", \"age\": 25).\n",
        "\n",
        "19. Why are dictionaries considered unordered, and how does that affect data retrieval?\n",
        "\n",
        "    -> Dictionaries are unordered because their focus is on fast key-based access, not maintaining the order of items.\n",
        "    \n",
        "    Key reasons why dictionaries are unordered:\n",
        "    \n",
        "    Hashing: Dictionaries use a hash table to store data. The keys are hashed, meaning they are converted into a unique value (hash) that determines their position in memory. This process doesn't rely on the order of insertion, so the dictionary doesn’t store items in a specific order based on how they were added.\n",
        "\n",
        "    Efficiency: The goal of a dictionary is to provide fast lookups, so the internal organization is optimized for quick access via the key, not maintaining order.\n",
        "\n",
        "    Impact on data retrieval:\n",
        "    \n",
        "    Access by key: You retrieve data from a dictionary using keys (e.g., my_dict['name']), and the lookup will still be fast (O(1) on average). This is because dictionaries focus on hashing the key, not the order.\n",
        "\n",
        "    Order matters: Although Python 3.7+ maintains insertion order, you can't rely on dictionaries being ordered in earlier versions or for use cases that require strict ordering. If you care about order (e.g., processing items in the exact order they were added), lists or ordered dictionaries (from collections.OrderedDict) are better choices.\n",
        "\n",
        "20. Explain the difference between a list and a dictionary in terms of data retrieval.    \n",
        "\n",
        "    -> There is a difference beetwen list and dictionary. lists use indices to access elements, while dictionaries use keys.\n",
        "\n",
        "    Lists\n",
        "    \n",
        "    - Lists are ordered collections of items.\n",
        "    \n",
        "    - Elements in a list are accessed using indices, which are integers that start at zero.\n",
        "    \n",
        "    - Lists are good for ordered operations like sorting.\n",
        "    \n",
        "    - Lists can contain duplicate items.\n",
        "\n",
        "    Dictionaries\n",
        "    \n",
        "    - Dictionaries are unordered collections of key-value pairs.\n",
        "    \n",
        "    - Elements in a dictionary are accessed using keys, which can be of any data type.\n",
        "    \n",
        "    - Dictionaries are good for lookup operations.\n",
        "    \n",
        "    - Dictionaries do not allow duplicate keys\n"
      ],
      "metadata": {
        "id": "FbPh6Hdof9N2"
      }
    },
    {
      "cell_type": "markdown",
      "source": [
        "# Data Types and Structures Practical Questions"
      ],
      "metadata": {
        "id": "-gqbeF3Gf47K"
      }
    },
    {
      "cell_type": "markdown",
      "source": [
        "# 1. Write a code to create a string with your name and print it."
      ],
      "metadata": {
        "id": "BMD4CpMzPG9i"
      }
    },
    {
      "cell_type": "code",
      "source": [
        "Name = \"Aman\"\n",
        "print(Name)"
      ],
      "metadata": {
        "colab": {
          "base_uri": "https://localhost:8080/"
        },
        "id": "0Eda6RwNPQUI",
        "outputId": "0c5a31a9-7dee-4b29-8f34-ab01ce75b2d7"
      },
      "execution_count": null,
      "outputs": [
        {
          "output_type": "stream",
          "name": "stdout",
          "text": [
            "Aman\n"
          ]
        }
      ]
    },
    {
      "cell_type": "markdown",
      "source": [
        "# 2. Write a code to find the length of the string \"Hello World\""
      ],
      "metadata": {
        "id": "S8oY59X4P1JO"
      }
    },
    {
      "cell_type": "code",
      "source": [
        "string_name = \"Hello World\"\n",
        "length = len(string_name)\n",
        "print(length)"
      ],
      "metadata": {
        "colab": {
          "base_uri": "https://localhost:8080/"
        },
        "id": "iI-U21h6Pk9C",
        "outputId": "25acea0a-1f92-4dd1-8e2a-97e9ea090b2b"
      },
      "execution_count": null,
      "outputs": [
        {
          "output_type": "stream",
          "name": "stdout",
          "text": [
            "11\n"
          ]
        }
      ]
    },
    {
      "cell_type": "markdown",
      "source": [
        "# 3. Write a code to slice the first 3 characters from the string \"Python Programming\".\n",
        "  "
      ],
      "metadata": {
        "id": "Bz0zFk7HQW_8"
      }
    },
    {
      "cell_type": "code",
      "source": [
        "string = \"Python Programming\"\n",
        "sliced_string = string[:3]\n",
        "print(sliced_string)"
      ],
      "metadata": {
        "colab": {
          "base_uri": "https://localhost:8080/"
        },
        "id": "0pKHtZbmQIOD",
        "outputId": "61d3692b-b2c4-4207-f189-d307399b72c1"
      },
      "execution_count": null,
      "outputs": [
        {
          "output_type": "stream",
          "name": "stdout",
          "text": [
            "Pyt\n"
          ]
        }
      ]
    },
    {
      "cell_type": "markdown",
      "source": [
        "# 4. Write a code to convert the string \"hello\" to uppercase."
      ],
      "metadata": {
        "id": "0tx0IgQOQ2FU"
      }
    },
    {
      "cell_type": "code",
      "source": [
        "string = \"hello\"\n",
        "new_string = string.upper()\n",
        "print(new_string)"
      ],
      "metadata": {
        "colab": {
          "base_uri": "https://localhost:8080/"
        },
        "id": "W-Un_nGwQxmR",
        "outputId": "7ab6770b-f8ad-40fe-c8f5-05d34f971e21"
      },
      "execution_count": null,
      "outputs": [
        {
          "output_type": "stream",
          "name": "stdout",
          "text": [
            "HELLO\n"
          ]
        }
      ]
    },
    {
      "cell_type": "markdown",
      "source": [
        "# 5. Write a code to replace the word \"apple\" with \"orange\" in the string \"I like apple\"."
      ],
      "metadata": {
        "id": "BPT6xnzBRa0B"
      }
    },
    {
      "cell_type": "code",
      "source": [
        "string = \"I like apple\"\n",
        "new_string = string.replace(\"apple\", \"orange\")\n",
        "print(new_string)"
      ],
      "metadata": {
        "id": "Un5nLX46RSve",
        "colab": {
          "base_uri": "https://localhost:8080/"
        },
        "outputId": "654786d2-1224-4f7f-9689-a213bf49d8ce"
      },
      "execution_count": null,
      "outputs": [
        {
          "output_type": "stream",
          "name": "stdout",
          "text": [
            "I like orange\n"
          ]
        }
      ]
    },
    {
      "cell_type": "markdown",
      "source": [
        "# 6. Write a code to create a list with numbers 1 to 5 and print it."
      ],
      "metadata": {
        "id": "2NhJaqUWR6kX"
      }
    },
    {
      "cell_type": "code",
      "source": [
        "lst = [1, 2, 3, 4, 5]\n",
        "print(lst)"
      ],
      "metadata": {
        "colab": {
          "base_uri": "https://localhost:8080/"
        },
        "id": "ux6xFxPxSEzy",
        "outputId": "b923504a-c10d-4b57-ede5-0dc6567a33be"
      },
      "execution_count": null,
      "outputs": [
        {
          "output_type": "stream",
          "name": "stdout",
          "text": [
            "[1, 2, 3, 4, 5]\n"
          ]
        }
      ]
    },
    {
      "cell_type": "markdown",
      "source": [
        "# 7. Write a code to append the number 10 to the list [1, 2, 3, 4]."
      ],
      "metadata": {
        "id": "hxSHmbqhSEEW"
      }
    },
    {
      "cell_type": "code",
      "source": [
        "lst = [1,2,3,4]\n",
        "lst.append(10)\n",
        "lst"
      ],
      "metadata": {
        "colab": {
          "base_uri": "https://localhost:8080/"
        },
        "id": "zMSF9QlBSaaR",
        "outputId": "eef88983-5d44-412c-88fc-e96b172df932"
      },
      "execution_count": null,
      "outputs": [
        {
          "output_type": "execute_result",
          "data": {
            "text/plain": [
              "[1, 2, 3, 4, 10]"
            ]
          },
          "metadata": {},
          "execution_count": 9
        }
      ]
    },
    {
      "cell_type": "markdown",
      "source": [
        "# 8. Write a code to remove the number 3 from the list [1, 2, 3, 4, 5]"
      ],
      "metadata": {
        "id": "frKEK-wpStGp"
      }
    },
    {
      "cell_type": "code",
      "source": [
        "lst = [1,2,3,4,5]\n",
        "lst.remove(3)\n",
        "lst"
      ],
      "metadata": {
        "colab": {
          "base_uri": "https://localhost:8080/"
        },
        "id": "wxDOUoDqSkIY",
        "outputId": "d53cbb39-4730-40e7-a169-cfd8c59380ca"
      },
      "execution_count": null,
      "outputs": [
        {
          "output_type": "execute_result",
          "data": {
            "text/plain": [
              "[1, 2, 4, 5]"
            ]
          },
          "metadata": {},
          "execution_count": 10
        }
      ]
    },
    {
      "cell_type": "markdown",
      "source": [
        "# 9. Write a code to access the second element in the list ['a', 'b', 'c', 'd']"
      ],
      "metadata": {
        "id": "RaOgX0r5Svjq"
      }
    },
    {
      "cell_type": "code",
      "source": [
        "lst = ['a' , 'b' , 'c' , 'd']\n",
        "lst[1]"
      ],
      "metadata": {
        "colab": {
          "base_uri": "https://localhost:8080/",
          "height": 36
        },
        "id": "SPdromAVTJXU",
        "outputId": "65d3240f-1335-40ef-df1e-f8fbd84be983"
      },
      "execution_count": null,
      "outputs": [
        {
          "output_type": "execute_result",
          "data": {
            "text/plain": [
              "'b'"
            ],
            "application/vnd.google.colaboratory.intrinsic+json": {
              "type": "string"
            }
          },
          "metadata": {},
          "execution_count": 11
        }
      ]
    },
    {
      "cell_type": "markdown",
      "source": [
        "# 10. Write a code to reverse the list [10, 20, 30, 40, 50]."
      ],
      "metadata": {
        "id": "YJLKYdNcToXv"
      }
    },
    {
      "cell_type": "code",
      "source": [
        "my_list = [10, 20, 30, 40, 50]\n",
        "reversed_list = my_list[::-1]\n",
        "print(reversed_list)"
      ],
      "metadata": {
        "colab": {
          "base_uri": "https://localhost:8080/"
        },
        "id": "Z9LzFBELTX90",
        "outputId": "76881300-5ccc-4ebe-e109-d670beb06f50"
      },
      "execution_count": null,
      "outputs": [
        {
          "output_type": "stream",
          "name": "stdout",
          "text": [
            "[50, 40, 30, 20, 10]\n"
          ]
        }
      ]
    },
    {
      "cell_type": "markdown",
      "source": [
        "# 11. Write a code to create a tuple with the elements 100, 200, 300 and print it."
      ],
      "metadata": {
        "id": "8oFq4dVhUUZB"
      }
    },
    {
      "cell_type": "code",
      "source": [
        "my_tuple = (100, 200, 300)\n",
        "print(my_tuple)"
      ],
      "metadata": {
        "colab": {
          "base_uri": "https://localhost:8080/"
        },
        "id": "UPmVGDmkUEzt",
        "outputId": "f4c8173a-7478-4929-8171-2326a724c571"
      },
      "execution_count": null,
      "outputs": [
        {
          "output_type": "stream",
          "name": "stdout",
          "text": [
            "(100, 200, 300)\n"
          ]
        }
      ]
    },
    {
      "cell_type": "markdown",
      "source": [
        "# 12. Write a code to access the second-to-last element of the tuple ('red', 'green', 'blue', 'yellow')"
      ],
      "metadata": {
        "id": "kW5O0N0pUiCn"
      }
    },
    {
      "cell_type": "code",
      "source": [
        "my_tuple = ('red', 'green', 'blue', 'yellow')\n",
        "second_last_value = my_tuple[-2]\n",
        "print(second_last_value)"
      ],
      "metadata": {
        "colab": {
          "base_uri": "https://localhost:8080/"
        },
        "id": "PClPpeshUgrl",
        "outputId": "44b6cf30-8bb3-4984-bfea-3e357a1d8ecf"
      },
      "execution_count": null,
      "outputs": [
        {
          "output_type": "stream",
          "name": "stdout",
          "text": [
            "blue\n"
          ]
        }
      ]
    },
    {
      "cell_type": "markdown",
      "source": [
        "# 13. Write a code to find the minimum number in the tuple (10, 20, 5, 15)"
      ],
      "metadata": {
        "id": "O4NaY7IxV7x5"
      }
    },
    {
      "cell_type": "code",
      "source": [
        "my_tuple = (10, 20, 5, 15)\n",
        "minimum_value = min(my_tuple)\n",
        "print(minimum_value)"
      ],
      "metadata": {
        "colab": {
          "base_uri": "https://localhost:8080/"
        },
        "id": "vpkVjGciWECc",
        "outputId": "daaf06cf-dfc1-44c8-e67c-e324c68c70c8"
      },
      "execution_count": null,
      "outputs": [
        {
          "output_type": "stream",
          "name": "stdout",
          "text": [
            "5\n"
          ]
        }
      ]
    },
    {
      "cell_type": "markdown",
      "source": [
        "# 14. Write a code to find the index of the element \"cat\" in the tuple ('dog', 'cat', 'rabbit')."
      ],
      "metadata": {
        "id": "qV1rnFd-WQgA"
      }
    },
    {
      "cell_type": "code",
      "source": [
        "my_tuple = ('dog', 'cat', 'rabbit')\n",
        "index_of_cat = my_tuple.index('cat')\n",
        "print(index_of_cat)"
      ],
      "metadata": {
        "colab": {
          "base_uri": "https://localhost:8080/"
        },
        "id": "n7lWSff6WYO6",
        "outputId": "fa7d469d-6653-4303-b25f-481ef60c97b6"
      },
      "execution_count": null,
      "outputs": [
        {
          "output_type": "stream",
          "name": "stdout",
          "text": [
            "1\n"
          ]
        }
      ]
    },
    {
      "cell_type": "markdown",
      "source": [
        "# 15.  Write a code to create a tuple containing three different fruits and check if \"kiwi\" is in it."
      ],
      "metadata": {
        "id": "lu_CVmbrWo9e"
      }
    },
    {
      "cell_type": "code",
      "source": [
        "from re import search\n",
        "fruits_tuple = ('apple', 'banana', 'cherry')\n",
        "search_kiwi = 'kiwi' in fruits_tuple\n",
        "print(search_kiwi)"
      ],
      "metadata": {
        "colab": {
          "base_uri": "https://localhost:8080/"
        },
        "id": "H7USd_fPWvyo",
        "outputId": "50347d39-f34e-40cb-d940-202c0dc7b8c7"
      },
      "execution_count": null,
      "outputs": [
        {
          "output_type": "stream",
          "name": "stdout",
          "text": [
            "False\n"
          ]
        }
      ]
    },
    {
      "cell_type": "markdown",
      "source": [
        "# 16. Write a code to create a set with the elements 'a', 'b', 'c' and print it"
      ],
      "metadata": {
        "id": "Kj9EYAfGXI8d"
      }
    },
    {
      "cell_type": "code",
      "source": [
        "my_set = {'a', 'b', 'c'}\n",
        "print(my_set)"
      ],
      "metadata": {
        "colab": {
          "base_uri": "https://localhost:8080/"
        },
        "id": "VJtyaBYXXGA3",
        "outputId": "500ea4e1-f8d1-4a2f-9a04-ecd6237a0dc5"
      },
      "execution_count": null,
      "outputs": [
        {
          "output_type": "stream",
          "name": "stdout",
          "text": [
            "{'b', 'a', 'c'}\n"
          ]
        }
      ]
    },
    {
      "cell_type": "markdown",
      "source": [
        "# 17. Write a code to clear all elements from the set {1, 2, 3, 4, 5}"
      ],
      "metadata": {
        "id": "IQs0RXe3XTgz"
      }
    },
    {
      "cell_type": "code",
      "source": [
        "my_set = {1, 2, 3, 4, 5}\n",
        "my_set.clear()\n",
        "print(my_set)"
      ],
      "metadata": {
        "colab": {
          "base_uri": "https://localhost:8080/"
        },
        "id": "MnUjlc9TXR7n",
        "outputId": "cc96d7bb-78f8-4d12-b907-9dd1c030f3c3"
      },
      "execution_count": null,
      "outputs": [
        {
          "output_type": "stream",
          "name": "stdout",
          "text": [
            "set()\n"
          ]
        }
      ]
    },
    {
      "cell_type": "markdown",
      "source": [
        "# 18. Write a code to remove the element 4 from the set {1, 2, 3, 4}"
      ],
      "metadata": {
        "id": "gW5BljG8Xqip"
      }
    },
    {
      "cell_type": "code",
      "source": [
        "my_set = {1, 2, 3, 4}\n",
        "my_set.remove(4)\n",
        "print(my_set)"
      ],
      "metadata": {
        "colab": {
          "base_uri": "https://localhost:8080/"
        },
        "id": "Y4kkTAStXoam",
        "outputId": "ad058f97-76a5-4911-9100-360d2351c638"
      },
      "execution_count": null,
      "outputs": [
        {
          "output_type": "stream",
          "name": "stdout",
          "text": [
            "{1, 2, 3}\n"
          ]
        }
      ]
    },
    {
      "cell_type": "markdown",
      "source": [
        "# 19. Write a code to find the union of two sets {1, 2, 3} and {3, 4, 5}."
      ],
      "metadata": {
        "id": "8jDw863GYUvr"
      }
    },
    {
      "cell_type": "code",
      "source": [
        "set1 = {1, 2, 3}\n",
        "set2 = {3, 4, 5}\n",
        "union_set = set1 | set2\n",
        "print(union_set)"
      ],
      "metadata": {
        "colab": {
          "base_uri": "https://localhost:8080/"
        },
        "id": "q0MkzFsZYdzp",
        "outputId": "39d5c4c4-015e-4047-e021-585bcd1a6773"
      },
      "execution_count": null,
      "outputs": [
        {
          "output_type": "stream",
          "name": "stdout",
          "text": [
            "{1, 2, 3, 4, 5}\n"
          ]
        }
      ]
    },
    {
      "cell_type": "markdown",
      "source": [
        "# 20. Write a code to find the intersection of two sets {1, 2, 3} and {2, 3, 4}"
      ],
      "metadata": {
        "id": "H2OTppdPYpWp"
      }
    },
    {
      "cell_type": "code",
      "source": [
        "set1 = {1, 2, 3}\n",
        "set2 = {2, 3, 4}\n",
        "intersection_set = set1 & set2\n",
        "print(intersection_set)"
      ],
      "metadata": {
        "colab": {
          "base_uri": "https://localhost:8080/"
        },
        "id": "mM-TCnUMYkT8",
        "outputId": "f96f23c0-d7ab-4c5e-fd4d-97097846b7a8"
      },
      "execution_count": null,
      "outputs": [
        {
          "output_type": "stream",
          "name": "stdout",
          "text": [
            "{2, 3}\n"
          ]
        }
      ]
    },
    {
      "cell_type": "markdown",
      "source": [
        "# 21. Write a code to create a dictionary with the keys \"name\", \"age\", and \"city\", and print it"
      ],
      "metadata": {
        "id": "M36WVGLeY5Ty"
      }
    },
    {
      "cell_type": "code",
      "source": [
        "my_dict = {\n",
        "    \"name\": \"John\",\n",
        "    \"age\": 30,\n",
        "    \"city\": \"New York\"\n",
        "}\n",
        "print(my_dict)"
      ],
      "metadata": {
        "colab": {
          "base_uri": "https://localhost:8080/"
        },
        "id": "hbdySnkKY3lE",
        "outputId": "c09d9210-6269-4613-bdec-3798111cfcf6"
      },
      "execution_count": null,
      "outputs": [
        {
          "output_type": "stream",
          "name": "stdout",
          "text": [
            "{'name': 'John', 'age': 30, 'city': 'New York'}\n"
          ]
        }
      ]
    },
    {
      "cell_type": "markdown",
      "source": [
        "# 22.  Write a code to add a new key-value pair \"country\": \"USA\" to the dictionary {'name': 'John', 'age': 25}"
      ],
      "metadata": {
        "id": "bviAziCUZoFj"
      }
    },
    {
      "cell_type": "code",
      "source": [
        "my_dict = {'name': 'John', 'age': 25}\n",
        "my_dict[\"country\"] = \"USA\"\n",
        "print(my_dict)"
      ],
      "metadata": {
        "colab": {
          "base_uri": "https://localhost:8080/"
        },
        "id": "2HAY0-Q6Zlkh",
        "outputId": "c987c4a5-8d37-40a3-f05d-c92e9fe4ced3"
      },
      "execution_count": null,
      "outputs": [
        {
          "output_type": "stream",
          "name": "stdout",
          "text": [
            "{'name': 'John', 'age': 25, 'country': 'USA'}\n"
          ]
        }
      ]
    },
    {
      "cell_type": "markdown",
      "source": [
        "# 23. Write a code to access the value associated with the key \"name\" in the dictionary {'name': 'Alice', 'age': 30}."
      ],
      "metadata": {
        "id": "XFOF20_eaBCj"
      }
    },
    {
      "cell_type": "code",
      "source": [
        "my_dict = {'name': 'Alice', 'age': 30}\n",
        "name_value = my_dict[\"name\"]\n",
        "print(name_value)"
      ],
      "metadata": {
        "colab": {
          "base_uri": "https://localhost:8080/"
        },
        "id": "nf4vljYHZ5NR",
        "outputId": "8706aab0-b006-4054-9a6b-11d1ce87ee72"
      },
      "execution_count": null,
      "outputs": [
        {
          "output_type": "stream",
          "name": "stdout",
          "text": [
            "Alice\n"
          ]
        }
      ]
    },
    {
      "cell_type": "markdown",
      "source": [
        "# 24. Write a code to remove the key \"age\" from the dictionary {'name': 'Bob', 'age': 22, 'city': 'New York'}."
      ],
      "metadata": {
        "id": "Lk0Frj-maO0a"
      }
    },
    {
      "cell_type": "code",
      "source": [
        "my_dict = {'name': 'Bob', 'age': 22, 'city': 'New York'}\n",
        "del my_dict[\"age\"]\n",
        "print(my_dict)"
      ],
      "metadata": {
        "colab": {
          "base_uri": "https://localhost:8080/"
        },
        "id": "9zfCSd4KaLsB",
        "outputId": "ec53fb2c-54a8-4077-b870-1716a36a3c1f"
      },
      "execution_count": null,
      "outputs": [
        {
          "output_type": "stream",
          "name": "stdout",
          "text": [
            "{'name': 'Bob', 'city': 'New York'}\n"
          ]
        }
      ]
    },
    {
      "cell_type": "markdown",
      "source": [
        "# 25. Write a code to check if the key \"city\" exists in the dictionary {'name': 'Alice', 'city': 'Paris'}"
      ],
      "metadata": {
        "id": "_NUk40eEaccv"
      }
    },
    {
      "cell_type": "code",
      "source": [
        "my_dict = {'name': 'Alice', 'city': 'Paris'}\n",
        "\n",
        "if 'city' in my_dict:\n",
        "    print(\"The key 'city' exists in the dictionary.\")\n",
        "else:\n",
        "    print(\"The key 'city' does not exist in the dictionary.\")"
      ],
      "metadata": {
        "colab": {
          "base_uri": "https://localhost:8080/"
        },
        "id": "4hdrAm_FaaoG",
        "outputId": "c0d9d3f6-eb94-4631-9955-a5af67f05db1"
      },
      "execution_count": null,
      "outputs": [
        {
          "output_type": "stream",
          "name": "stdout",
          "text": [
            "The key 'city' exists in the dictionary.\n"
          ]
        }
      ]
    },
    {
      "cell_type": "markdown",
      "source": [
        "# 26. Write a code to create a list, a tuple, and a dictionary, and print them all."
      ],
      "metadata": {
        "id": "RHyFU8PUaza0"
      }
    },
    {
      "cell_type": "code",
      "source": [
        "my_list = [1, 2, 3, 4, 5]\n",
        "my_tuple = ('apple', 'banana', 'cherry')\n",
        "my_dict = {'name': 'Alice', 'city': 'Paris'}\n",
        "\n",
        "print(\"List:\", my_list)\n",
        "print(\"Tuple:\", my_tuple)\n",
        "print(\"Dictionary:\", my_dict)"
      ],
      "metadata": {
        "colab": {
          "base_uri": "https://localhost:8080/"
        },
        "id": "CFrnoIdHavNu",
        "outputId": "5d775f93-1d23-483a-f747-e2ab78074eb1"
      },
      "execution_count": null,
      "outputs": [
        {
          "output_type": "stream",
          "name": "stdout",
          "text": [
            "List: [1, 2, 3, 4, 5]\n",
            "Tuple: ('apple', 'banana', 'cherry')\n",
            "Dictionary: {'name': 'Alice', 'city': 'Paris'}\n"
          ]
        }
      ]
    },
    {
      "cell_type": "markdown",
      "source": [
        "# 27. Write a code to create a list of 5 random numbers between 1 and 100, sort it in ascending order, and print the result.(replaced)"
      ],
      "metadata": {
        "id": "Ow9BrioebKEx"
      }
    },
    {
      "cell_type": "code",
      "source": [
        "import random\n",
        "\n",
        "random_numbers = [random.randint(1, 100) for _ in range(5)]\n",
        "random_numbers.sort()\n",
        "print(\"Sorted List:\", random_numbers)"
      ],
      "metadata": {
        "colab": {
          "base_uri": "https://localhost:8080/"
        },
        "id": "s0uaslyWbIF2",
        "outputId": "60b434fb-95b3-497e-fbc3-5c25e3e25dd7"
      },
      "execution_count": null,
      "outputs": [
        {
          "output_type": "stream",
          "name": "stdout",
          "text": [
            "Sorted List: [38, 52, 60, 78, 92]\n"
          ]
        }
      ]
    },
    {
      "cell_type": "markdown",
      "source": [
        "# 28. Write a code to create a list with strings and print the element at the third index."
      ],
      "metadata": {
        "id": "6tdG7HQIcKQD"
      }
    },
    {
      "cell_type": "code",
      "source": [
        "lst = [\"Aman\", \"Riya\", \"Aarya\", \"Rian\"]\n",
        "Thired_index = lst[3]\n",
        "print(Thired_index)"
      ],
      "metadata": {
        "colab": {
          "base_uri": "https://localhost:8080/"
        },
        "id": "o40pfG0Vb6qy",
        "outputId": "a2b4d5e9-0093-4a59-dd5b-33a20f916669"
      },
      "execution_count": null,
      "outputs": [
        {
          "output_type": "stream",
          "name": "stdout",
          "text": [
            "Rian\n"
          ]
        }
      ]
    },
    {
      "cell_type": "markdown",
      "source": [
        "# 29. Write a code to combine two dictionaries into one and print the result."
      ],
      "metadata": {
        "id": "ID4w4iTgdDJ0"
      }
    },
    {
      "cell_type": "code",
      "source": [
        "dict1 = {'name': 'Aman', 'age': 25}\n",
        "dict2 = {'city': 'Indore', 'job': 'Engineer'}\n",
        "\n",
        "combined_dict = {**dict1, **dict2}\n",
        "print(combined_dict)"
      ],
      "metadata": {
        "colab": {
          "base_uri": "https://localhost:8080/"
        },
        "id": "0gI8GSTtc60F",
        "outputId": "9dfc2978-7b49-4bab-97b2-85936e182248"
      },
      "execution_count": null,
      "outputs": [
        {
          "output_type": "stream",
          "name": "stdout",
          "text": [
            "{'name': 'Aman', 'age': 25, 'city': 'Indore', 'job': 'Engineer'}\n"
          ]
        }
      ]
    },
    {
      "cell_type": "markdown",
      "source": [
        "# 30. Write a code to convert a list of strings into a set."
      ],
      "metadata": {
        "id": "6SdcbtbLdaVL"
      }
    },
    {
      "cell_type": "code",
      "source": [
        "my_list = ['apple', 'banana', 'cherry', 'apple', 'date']\n",
        "my_set = set(my_list)\n",
        "print(my_set)"
      ],
      "metadata": {
        "colab": {
          "base_uri": "https://localhost:8080/"
        },
        "id": "6bBAjRZ1dU7M",
        "outputId": "a0b83c41-1d18-4df3-9dbb-11a985c78093"
      },
      "execution_count": null,
      "outputs": [
        {
          "output_type": "stream",
          "name": "stdout",
          "text": [
            "{'banana', 'date', 'cherry', 'apple'}\n"
          ]
        }
      ]
    },
    {
      "cell_type": "code",
      "source": [],
      "metadata": {
        "id": "TWgAkRXed-IW"
      },
      "execution_count": null,
      "outputs": []
    }
  ]
}